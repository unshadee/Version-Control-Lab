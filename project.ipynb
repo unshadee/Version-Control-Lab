{
 "cells": [
  {
   "cell_type": "code",
   "execution_count": null,
   "id": "8b273710",
   "metadata": {
    "vscode": {
     "languageId": "plaintext"
    }
   },
   "outputs": [],
   "source": [
    "name = input(\"What is your name?\")\n",
    "age = int(input(\"How old are you?\"))\n",
    "print(name, \"is\", age, \"years old.\")"
   ]
  }
 ],
 "metadata": {
  "language_info": {
   "name": "python"
  }
 },
 "nbformat": 4,
 "nbformat_minor": 5
}
